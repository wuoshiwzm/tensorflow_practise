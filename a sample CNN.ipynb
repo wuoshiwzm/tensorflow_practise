{
 "cells": [
  {
   "cell_type": "code",
   "execution_count": 1,
   "metadata": {
    "collapsed": true
   },
   "outputs": [],
   "source": [
    "import tensorflow as tf\n",
    "import numpy as np\n",
    "import matplotlib.pyplot as plt\n"
   ]
  },
  {
   "cell_type": "code",
   "execution_count": 25,
   "metadata": {
    "collapsed": true
   },
   "outputs": [
    {
     "name": "stdout",
     "output_type": "stream",
     "text": [
      "Extracting data/train-images-idx3-ubyte.gz\n[2051] 60000 28 28\n"
     ]
    },
    {
     "name": "stdout",
     "output_type": "stream",
     "text": [
      "Extracting data/train-labels-idx1-ubyte.gz\nExtracting data/t10k-images-idx3-ubyte.gz\n[2051] 10000 28 28\nExtracting data/t10k-labels-idx1-ubyte.gz\n"
     ]
    }
   ],
   "source": [
    "import input_data\n",
    "mnist = input_data.read_data_sets('data/',one_hot=True)"
   ]
  },
  {
   "cell_type": "code",
   "execution_count": 10,
   "metadata": {
    "collapsed": true
   },
   "outputs": [],
   "source": [
    "# 定义输入输出格式\n",
    "n_input = 784\n",
    "n_output = 10\n",
    "weights = {\n",
    "    'wc1' : tf.Variable(tf.random_normal([3,3,1,64],stddev=0.1)),  #(H,W,in_channel,out_channel) D:deepth N:输出的label数，这一个卷积层输出为为64  3，3对应filter\n",
    "    'wc2' : tf.Variable(tf.random_normal([3,3,64,128],stddev=0.1)), # 上一层的输出为64层\n",
    "    'wd1' : tf.Variable(tf.random_normal([7*7*128,1024],stddev=0.1)), # 28->卷积1->->pooling1->j卷积2->->pooling2  H变成7\n",
    "    'wd2' : tf.Variable(tf.random_normal([1024,n_output],stddev=0.1))\n",
    " }\n",
    "\n",
    "biases = {\n",
    "    \n",
    "    'bc1' : tf.Variable(tf.random_normal([64],stddev=0.1)),\n",
    "    'bc2' : tf.Variable(tf.random_normal([128],stddev=0.1)),\n",
    "    'bd1' : tf.Variable(tf.random_normal([1024],stddev=0.1)),\n",
    "    'bd2' : tf.Variable(tf.random_normal([n_output],stddev=0.1))\n",
    "}"
   ]
  },
  {
   "cell_type": "code",
   "execution_count": 11,
   "metadata": {
    "collapsed": true
   },
   "outputs": [],
   "source": [
    "import pandas as pd\n"
   ]
  },
  {
   "cell_type": "code",
   "execution_count": 12,
   "metadata": {},
   "outputs": [
    {
     "name": "stdout",
     "output_type": "stream",
     "text": [
      "finish function def\n"
     ]
    }
   ],
   "source": [
    "# 正向传播定义\n",
    "def conv_basic(input, _w, _b, _keepratio):\n",
    "    # input reshape 为tf能接受的维度\n",
    "    _input_r = tf.reshape(input, shape=[-1, 28, 28, 1])  #(N,H,W,C)  N=-1定为动态，其他定好，第一维是可以算出来  C:channel  灰度图，只有1\n",
    "\n",
    "    _conv1 = tf.nn.conv2d(_input_r, _w['wc1'], strides=[1, 1, 1, 1], padding='SAME')\n",
    "    _conv1 = tf.nn.relu(tf.nn.bias_add(_conv1, _b['bc1']))\n",
    "    _pool1 = tf.nn.max_pool(_conv1, ksize=[1, 2, 2, 1], strides=[1, 2, 2, 1], padding='SAME')\n",
    "    _pool_dr1 = tf.nn.dropout(_pool1, _keepratio)\n",
    "    \n",
    "    # print('die')\n",
    "    _conv2 = tf.nn.conv2d(_pool_dr1, _w['wc2'], strides=[1, 1, 1, 1], padding='SAME')\n",
    "    _conv2 = tf.nn.relu(tf.nn.bias_add(_conv2, _b['bc2']))\n",
    "    _pool2 = tf.nn.max_pool(_conv2, ksize=[1, 2, 2, 1], strides=[1, 2, 2, 1], padding='SAME')\n",
    "    _pool_dr2 = tf.nn.dropout(_pool2, _keepratio)\n",
    "\n",
    "    _dense1 = tf.reshape(_pool_dr2, [-1, _w['wd1'].get_shape().as_list()[0]])\n",
    "\n",
    "    _fc1 = tf.nn.relu(tf.add(tf.matmul(_dense1, _w['wd1']), _b['bd1']))\n",
    "    _fc_dr1 = tf.nn.dropout(_fc1, _keepratio)\n",
    "\n",
    "    _out = tf.add(tf.matmul(_fc_dr1, _w['wd2']), _b['bd2'])\n",
    "\n",
    "    # return \n",
    "    out = {\n",
    "        'input_r': _input_r, 'conv1': _conv1, 'pool1': _pool1, 'pool_dr1': _pool_dr1,\n",
    "        'conv_2': _conv2, 'pool2': _pool2, 'pool_dr2': _pool_dr2, 'dense1': _dense1,\n",
    "        'fc1': _fc1, 'fc_dr1': _fc_dr1, 'out': _out\n",
    "    }\n",
    "    return out\n",
    "print('finish function def')\n"
   ]
  },
  {
   "cell_type": "code",
   "execution_count": 26,
   "metadata": {
    "collapsed": false
   },
   "outputs": [
    {
     "name": "stdout",
     "output_type": "stream",
     "text": [
      "graph head\n"
     ]
    }
   ],
   "source": [
    "x = tf.placeholder(tf.float32, [None, n_input])  #n_input个输入\n",
    "y = tf.placeholder(tf.float32, [None, n_output])\n",
    "keepratio = tf.placeholder(tf.float32)\n",
    "\n",
    "_pred = conv_basic(x, weights, biases, keepratio)['out']\n",
    "loss = tf.reduce_mean(tf.nn.softmax_cross_entropy_with_logits(logits=_pred, labels=y))\n",
    "optm = tf.train.AdamOptimizer(learning_rate=0.001).minimize(loss)\n",
    "\n",
    "_corr = tf.equal(tf.argmax(_pred, 1), tf.argmax(y, 1))\n",
    "acc = tf.reduce_mean(tf.cast(_corr, tf.float32))\n",
    "\n",
    "init = tf.global_variables_initializer()\n",
    "\n",
    "print('graph head')\n"
   ]
  },
  {
   "cell_type": "code",
   "execution_count": 35,
   "metadata": {},
   "outputs": [
    {
     "name": "stdout",
     "output_type": "stream",
     "text": [
      "3437\n"
     ]
    },
    {
     "name": "stdout",
     "output_type": "stream",
     "text": [
      "epoch:000/015  loss: 6.359412348\naccuracy: 0.500\n3437\n"
     ]
    },
    {
     "name": "stdout",
     "output_type": "stream",
     "text": [
      "3437\n"
     ]
    },
    {
     "name": "stdout",
     "output_type": "stream",
     "text": [
      "3437\n"
     ]
    },
    {
     "name": "stdout",
     "output_type": "stream",
     "text": [
      "3437\n"
     ]
    },
    {
     "name": "stdout",
     "output_type": "stream",
     "text": [
      "3437\n"
     ]
    },
    {
     "name": "stdout",
     "output_type": "stream",
     "text": [
      "3437\n"
     ]
    },
    {
     "name": "stdout",
     "output_type": "stream",
     "text": [
      "3437\n"
     ]
    },
    {
     "name": "stdout",
     "output_type": "stream",
     "text": [
      "3437\n"
     ]
    },
    {
     "name": "stdout",
     "output_type": "stream",
     "text": [
      "3437\n"
     ]
    },
    {
     "name": "stdout",
     "output_type": "stream",
     "text": [
      "3437\n"
     ]
    },
    {
     "name": "stdout",
     "output_type": "stream",
     "text": [
      "epoch:010/015  loss: 0.785100228\naccuracy: 0.875\n3437\n"
     ]
    },
    {
     "name": "stdout",
     "output_type": "stream",
     "text": [
      "3437\n"
     ]
    },
    {
     "name": "stdout",
     "output_type": "stream",
     "text": [
      "3437\n"
     ]
    },
    {
     "name": "stdout",
     "output_type": "stream",
     "text": [
      "3437\n"
     ]
    },
    {
     "name": "stdout",
     "output_type": "stream",
     "text": [
      "finished!\n"
     ]
    }
   ],
   "source": [
    "# init = tf.global_variables_initializer()\n",
    "with tf.Session() as sess:\n",
    "    training_epochs = 15\n",
    "    batch_size = 16\n",
    "    display_step = 10\n",
    "    sess.run(init)\n",
    "\n",
    "    for epoch in range(training_epochs):\n",
    "        avg_loss = 0\n",
    "        one_round_batch = int(mnist.train.num_examples / batch_size)\n",
    "        print(one_round_batch)\n",
    "        one_round_batch = 10\n",
    "\n",
    "        for i in range(one_round_batch):\n",
    "            batch_xs, batch_ys = mnist.train.next_batch(batch_size)\n",
    "            sess.run(optm, feed_dict={x: batch_xs, y: batch_ys,keepratio:0.7})\n",
    "            avg_loss += sess.run(loss, feed_dict={x: batch_xs, y: batch_ys, keepratio: 1}) \n",
    "        avg_loss = avg_loss / one_round_batch\n",
    "\n",
    "        if epoch % display_step == 0:\n",
    "            print('epoch:%03d/%03d  loss: %.9f' % (epoch, training_epochs, avg_loss))\n",
    "            train_acc = sess.run(acc, feed_dict={x: batch_xs, y: batch_ys, keepratio: 1})\n",
    "            print('accuracy: %.3f' % (train_acc))\n",
    "\n",
    "print('finished!')\n",
    "            "
   ]
  },
  {
   "cell_type": "code",
   "execution_count": 12,
   "metadata": {},
   "outputs": [],
   "source": []
  },
  {
   "cell_type": "code",
   "execution_count": 12,
   "metadata": {},
   "outputs": [],
   "source": []
  },
  {
   "cell_type": "code",
   "execution_count": null,
   "metadata": {},
   "outputs": [],
   "source": []
  }
 ],
 "metadata": {
  "kernelspec": {
   "display_name": "Python 3",
   "language": "python",
   "name": "python3"
  },
  "language_info": {
   "codemirror_mode": {
    "name": "ipython",
    "version": 3
   },
   "file_extension": ".py",
   "mimetype": "text/x-python",
   "name": "python",
   "nbconvert_exporter": "python",
   "pygments_lexer": "ipython3",
   "version": "3.6.3"
  }
 },
 "nbformat": 4,
 "nbformat_minor": 2
}
