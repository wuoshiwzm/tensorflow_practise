{
 "cells": [
  {
   "cell_type": "code",
   "execution_count": 1,
   "metadata": {
    "collapsed": true
   },
   "outputs": [],
   "source": [
    "import tensorflow as tf\n",
    "import numpy as np\n",
    "import matplotlib.pyplot as plt"
   ]
  },
  {
   "cell_type": "code",
   "execution_count": null,
   "metadata": {
    "collapsed": true
   },
   "outputs": [],
   "source": []
  },
  {
   "cell_type": "code",
   "execution_count": null,
   "metadata": {
    "collapsed": true
   },
   "outputs": [],
   "source": []
  },
  {
   "cell_type": "code",
   "execution_count": 9,
   "metadata": {},
   "outputs": [],
   "source": [
    "n_input = 784\n",
    "n_output = 10\n",
    "weights = {\n",
    "    'wc1' : tf.Variable(tf.random_normal([3,3,1,64],stddev=0.1)),  #(H,W,D,N) D:deepth N:输出的label数，这一个卷积层输出为为64  3，3对应filter\n",
    "    'wc2' : tf.Variable(tf.random_normal([3,3,64,128],stddev=0.1)), # 上一层的输出为64层\n",
    "    'wd1' : tf.Variable(tf.random_normal([7*7*128,1024],stddev=0.1)), # 28->卷积1->->pooling1->j卷积2->->pooling2  H变成7\n",
    "    'wd2' : tf.Variable(tf.random_normal([1024,n_output],stddev=0.1))\n",
    " }\n",
    "\n",
    "biases = {\n",
    "    \n",
    "    'bc1' : tf.Variable(tf.random_normal([64],stddev=0.1)),\n",
    "    'bc2' : tf.Variable(tf.random_normal([128],stddev=0.1)),\n",
    "    'bd1' : tf.Variable(tf.random_normal([1024],stddev=0.1)),\n",
    "    'bd2' : tf.Variable(tf.random_normal([n_output],stddev=0.1))\n",
    "}"
   ]
  },
  {
   "cell_type": "code",
   "execution_count": null,
   "metadata": {
    "collapsed": true
   },
   "outputs": [],
   "source": []
  },
  {
   "cell_type": "code",
   "execution_count": 10,
   "metadata": {},
   "outputs": [
    {
     "ename": "SyntaxError",
     "evalue": "unexpected EOF while parsing (<ipython-input-10-c99b536a42cb>, line 1)",
     "output_type": "error",
     "traceback": [
      "\u001b[1;36m  File \u001b[1;32m\"<ipython-input-10-c99b536a42cb>\"\u001b[1;36m, line \u001b[1;32m1\u001b[0m\n\u001b[1;33m    def conv_basic(input, _w, _b, _keepratio):\u001b[0m\n\u001b[1;37m                                              ^\u001b[0m\n\u001b[1;31mSyntaxError\u001b[0m\u001b[1;31m:\u001b[0m unexpected EOF while parsing\n"
     ]
    }
   ],
   "source": [
    "def conv_basic(input, _w, _b, _keepratio):\n",
    "    \n",
    "    _input_r = tf.reshape(_inpiut,shape=[-1,28,28,1])  #(N,H,W,C)  N=-1定为动态，其他定好，第一维是可以算出来  C:channel  灰度图，只有1\n",
    "    \n",
    "    _conv1 = tf.nn.conv2d(_inpuit_r,_w['wc1'],strides=[1,1,1,1],padding='SAME')\n",
    "    _conv1 = tf.nn.relu(tf.nn.bias_add(_conv1,_b['bc1']))\n",
    "    _pool1 = tf.nn.max_pool(_conv1,_b['bc1'],ksize=[1,2,2,1],strides=[1,2,2,1],padding='SAME')\n",
    "    _pool_dr1 = tf.nn.dropout(_pool1,_keepratio)\n",
    "    \n",
    "    _conv2 = tf.nn.conv2d(_inpuit_r,_w['wc2'],strides=[1,1,1,1],padding='SAME)"
   ]
  },
  {
   "cell_type": "code",
   "execution_count": null,
   "metadata": {
    "collapsed": true
   },
   "outputs": [],
   "source": []
  }
 ],
 "metadata": {
  "kernelspec": {
   "display_name": "Python 3",
   "language": "python",
   "name": "python3"
  },
  "language_info": {
   "codemirror_mode": {
    "name": "ipython",
    "version": 3
   },
   "file_extension": ".py",
   "mimetype": "text/x-python",
   "name": "python",
   "nbconvert_exporter": "python",
   "pygments_lexer": "ipython3",
   "version": "3.6.3"
  }
 },
 "nbformat": 4,
 "nbformat_minor": 2
}
