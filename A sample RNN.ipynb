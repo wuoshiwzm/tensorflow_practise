{
 "cells": [
  {
   "cell_type": "code",
   "execution_count": 1,
   "metadata": {
    "collapsed": true
   },
   "outputs": [],
   "source": [
    "import tensorflow as tf\n",
    "import numpy as np\n",
    "import matplotlib.pyplot as plt"
   ]
  },
  {
   "cell_type": "code",
   "execution_count": 2,
   "metadata": {},
   "outputs": [
    {
     "name": "stdout",
     "output_type": "stream",
     "text": [
      "Extracting data/train-images-idx3-ubyte.gz\n",
      "[2051] 60000 28 28\n",
      "Extracting data/train-labels-idx1-ubyte.gz\n",
      "Extracting data/t10k-images-idx3-ubyte.gz\n",
      "[2051] 10000 28 28\n",
      "Extracting data/t10k-labels-idx1-ubyte.gz\n"
     ]
    }
   ],
   "source": [
    "import input_data\n",
    "mnist = input_data.read_data_sets('data/',one_hot=True)"
   ]
  },
  {
   "cell_type": "code",
   "execution_count": 5,
   "metadata": {},
   "outputs": [],
   "source": [
    "# 初始化参数\n",
    "nclasses = 10\n",
    "diminput = 28\n",
    "dimhidden = 128\n",
    "dimoutput = nclasses\n",
    "nsteps = 28\n",
    "\n",
    "weights = {\n",
    "    'hidden':tf.Variable(tf.random_normal([diminput,dimhidden])),\n",
    "    'out':tf.Variable(tf.random_normal([dimhidden,dimoutput]))\n",
    "}\n",
    "biases = {\n",
    "    'hidden' : tf.Variable(tf.random_normal([dimhidden])),\n",
    "    'out' : tf.Variable(tf.random_normal([dimoutput]))\n",
    "}"
   ]
  },
  {
   "cell_type": "code",
   "execution_count": 12,
   "metadata": {},
   "outputs": [],
   "source": [
    "def RNN(_X,_W,_b,_nsteps,_name):\n",
    "    # [batchsize,nsteps,diminput] -> [nsteps,batchsize,diminput] batchsize：要拆的维度\n",
    "    _X = tf.transpose(_X,[1,0,2])\n",
    "    #  reshape [nsteps*batchsize, diminput]\n",
    "    _X = tf.reshape(_X,[-1,diminput])\n",
    "    # 算出了整个input计算出的隐层，后面再切分\n",
    "    _H = tf.matmul(_X,_W['hidden'])+b['hidden']\n",
    "    \n",
    "    #_H 进行切分\n",
    "    _Hsplit = tf.split(0,_nsteps,_H)\n",
    "    \n",
    "    with tf.variable_scope(_name) as scope:\n",
    "        lstm_cell = tf.nn.rnn_cell.BasicLSTMCell(dimhidden,forget_bias=1.0)\n",
    "        _LSTM_O,_LSTM_S = tf.nn.rnn(lstm_cell,_Hsplit,dtype = tf.float32)\n",
    "    _O = tf.matmul(_LSTM_O[=1],_W['out'])+_b['out']\n",
    "    \n",
    "    return {\n",
    "        'X':_X,'H':_H,'Hsplit':_Hsplit,\n",
    "        'LSTM_O':_LSTM_O,'LSTM_S':_LSTM_S,'O':_O#最后的输出O\n",
    "    }"
   ]
  },
  {
   "cell_type": "code",
   "execution_count": null,
   "metadata": {
    "collapsed": true
   },
   "outputs": [],
   "source": []
  }
 ],
 "metadata": {
  "kernelspec": {
   "display_name": "Python 3",
   "language": "python",
   "name": "python3"
  },
  "language_info": {
   "codemirror_mode": {
    "name": "ipython",
    "version": 3
   },
   "file_extension": ".py",
   "mimetype": "text/x-python",
   "name": "python",
   "nbconvert_exporter": "python",
   "pygments_lexer": "ipython3",
   "version": "3.6.3"
  }
 },
 "nbformat": 4,
 "nbformat_minor": 2
}
